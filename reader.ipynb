{
 "cells": [
  {
   "cell_type": "code",
   "execution_count": null,
   "metadata": {},
   "outputs": [],
   "source": [
    "archivo_sincronizado = \"The.Dark.Knight.Rises.2012.720p.BluRay.x264.YIFY.srt\"  # Cambia esto por la ruta a tu archivo sincronizado .srt\n",
    "archivo_desincronizado = \"The.Dark.Knight.Rises.2012.1080p.BluRay.x265.srt\"  # Cambia esto por la ruta a tu archivo desincronizado .srt\n",
    "archivo_salida = \"archivo_synced.srt\"  # Nombre del archivo de salida"
   ]
  },
  {
   "cell_type": "code",
   "execution_count": null,
   "metadata": {},
   "outputs": [
    {
     "name": "stdout",
     "output_type": "stream",
     "text": [
      "Primer índice (1): {'o_tiempo': '0 days 00:01:00.360000', 'f_tiempo': '0 days 00:01:02.726000', 'texto': '<i>Yo conocï¿½ a Harvey Dent.</i>'}\n",
      "Último índice (1880): {'o_tiempo': '0 days 02:35:08.906312029', 'f_tiempo': '0 days 02:35:11.739312029', 'texto': 'No puede haber un collar de perlas'}\n"
     ]
    }
   ],
   "source": [
    "import pandas as pd\n",
    "\n",
    "# Función para convertir el Timestamp a segundos desde medianoche\n",
    "def timestamp_a_segundos(tiempo):\n",
    "    return tiempo.hour * 3600 + tiempo.minute * 60 + tiempo.second + tiempo.microsecond / 1e6\n",
    "\n",
    "# Función para leer los archivos .srt y convertirlos a un diccionario con tiempos y texto\n",
    "def procesar_srt(archivo_srt):\n",
    "    diccionario = {}\n",
    "    with open(archivo_srt, 'r', encoding='latin-1') as file:\n",
    "        lines = file.readlines()\n",
    "\n",
    "    n = len(lines)\n",
    "    i = 0\n",
    "    while i < n:\n",
    "        if lines[i].strip().isdigit():\n",
    "            nro_linea = int(lines[i].strip())\n",
    "            tiempos = lines[i + 1].strip().split(' --> ')\n",
    "            o_tiempo_str = tiempos[0]\n",
    "            f_tiempo_str = tiempos[1]\n",
    "            texto = lines[i + 2].strip()\n",
    "            \n",
    "            # Convertir tiempos a formato Timestamp\n",
    "            o_tiempo = pd.to_datetime(o_tiempo_str, format='%H:%M:%S,%f')\n",
    "            f_tiempo = pd.to_datetime(f_tiempo_str, format='%H:%M:%S,%f')\n",
    "            \n",
    "            diccionario[nro_linea] = {\n",
    "                'o_tiempo': o_tiempo,\n",
    "                'f_tiempo': f_tiempo,\n",
    "                'texto': texto\n",
    "            }\n",
    "            \n",
    "            i += 4  # Saltar a la siguiente sección (número, tiempos, texto y línea vacía)\n",
    "        else:\n",
    "            i += 1\n",
    "    return diccionario\n",
    "\n",
    "# Función principal para sincronizar los archivos .srt\n",
    "def sincronizar_srt(archivo_sync, archivo_desync):\n",
    "    # Procesar ambos archivos\n",
    "    diccionario_sync = procesar_srt(archivo_sync)\n",
    "    diccionario_desync = procesar_srt(archivo_desync)\n",
    "    \n",
    "    # Obtener el primer y último registro de ambos archivos\n",
    "    primer_registro_sync = diccionario_sync[min(diccionario_sync.keys())]\n",
    "    ultimo_registro_sync = diccionario_sync[max(diccionario_sync.keys())]\n",
    "    primer_registro_desync = diccionario_desync[min(diccionario_desync.keys())]\n",
    "    ultimo_registro_desync = diccionario_desync[max(diccionario_desync.keys())]\n",
    "\n",
    "    # Calcular las diferencias de tiempo (rango) en segundos\n",
    "    rango_sync = timestamp_a_segundos(ultimo_registro_sync['f_tiempo']) - timestamp_a_segundos(primer_registro_sync['o_tiempo'])\n",
    "    rango_desync = timestamp_a_segundos(ultimo_registro_desync['f_tiempo']) - timestamp_a_segundos(primer_registro_desync['o_tiempo'])\n",
    "\n",
    "    # Calcular el ajuste de tiempo entre los primeros registros\n",
    "    ajuste = timestamp_a_segundos(primer_registro_sync['o_tiempo']) - timestamp_a_segundos(primer_registro_desync['o_tiempo'])\n",
    "\n",
    "    # Calcular el ratio de desincronización\n",
    "    ratio = rango_sync / rango_desync if rango_desync != 0 else 0\n",
    "\n",
    "    # Ajustar los tiempos del archivo desincronizado\n",
    "    for nro_linea, datos in diccionario_desync.items():\n",
    "        # Obtener los tiempos de inicio y fin del registro actual\n",
    "        o_tiempo_segundos = timestamp_a_segundos(datos['o_tiempo'])\n",
    "        f_tiempo_segundos = timestamp_a_segundos(datos['f_tiempo'])\n",
    "\n",
    "        # Calcular el ajuste\n",
    "        registro_inicial = min(diccionario_desync.keys())\n",
    "        try:\n",
    "            ajuste_total = ajuste * (ratio * (rango_desync / (nro_linea - registro_inicial))) if (nro_linea - registro_inicial) != 0 else 0\n",
    "        except ZeroDivisionError:\n",
    "            ajuste_total = 0\n",
    "\n",
    "        # Ajustar los tiempos\n",
    "        nuevo_o_tiempo = o_tiempo_segundos - ajuste_total\n",
    "        nuevo_f_tiempo = f_tiempo_segundos - ajuste_total\n",
    "\n",
    "        # Convertir de vuelta a horas: minutos: segundos\n",
    "        nuevo_o_tiempo_str = str(pd.to_timedelta(nuevo_o_tiempo, unit='s'))\n",
    "        nuevo_f_tiempo_str = str(pd.to_timedelta(nuevo_f_tiempo, unit='s'))\n",
    "\n",
    "        # Actualizar los tiempos en el diccionario\n",
    "        diccionario_desync[nro_linea]['o_tiempo'] = nuevo_o_tiempo_str\n",
    "        diccionario_desync[nro_linea]['f_tiempo'] = nuevo_f_tiempo_str\n",
    "\n",
    "    # Devolver el diccionario sincronizado\n",
    "    return diccionario_desync\n",
    "\n",
    "def guardar_srt(diccionario, archivo_salida):\n",
    "    with open(archivo_salida, 'w', encoding='latin-1') as file:\n",
    "        for nro_linea, datos in diccionario.items():\n",
    "            # Guardamos los tiempos tal cual, pero reemplazamos el punto por coma\n",
    "            o_tiempo = datos['o_tiempo'].replace(\"0 days \", \"\").replace('.', ',')\n",
    "            f_tiempo = datos['f_tiempo'].replace(\"0 days \", \"\").replace('.', ',')\n",
    "            # Escribir en el archivo .srt en el formato requerido\n",
    "            file.write(f\"{nro_linea}\\n\")\n",
    "            file.write(f\"{o_tiempo} --> {f_tiempo}\\n\")\n",
    "            file.write(f\"{datos['texto']}\\n\\n\")\n",
    "\n",
    "\n"
   ]
  },
  {
   "cell_type": "code",
   "execution_count": null,
   "metadata": {},
   "outputs": [
    {
     "name": "stdout",
     "output_type": "stream",
     "text": [
      "Archivo SRT guardado como archivo_synced.srt\n"
     ]
    }
   ],
   "source": [
    "\n",
    "# Sincronizar los archivos\n",
    "diccionario_sincronizado = sincronizar_srt(archivo_sincronizado, archivo_desincronizado)\n",
    "\n",
    "\n",
    "# Guardar el nuevo archivo sincronizado\n",
    "\n",
    "guardar_srt(diccionario_sincronizado, archivo_salida)\n",
    "print(f\"Archivo SRT guardado como {archivo_salida}\")"
   ]
  }
 ],
 "metadata": {
  "kernelspec": {
   "display_name": "Python 3",
   "language": "python",
   "name": "python3"
  },
  "language_info": {
   "codemirror_mode": {
    "name": "ipython",
    "version": 3
   },
   "file_extension": ".py",
   "mimetype": "text/x-python",
   "name": "python",
   "nbconvert_exporter": "python",
   "pygments_lexer": "ipython3",
   "version": "3.12.6"
  }
 },
 "nbformat": 4,
 "nbformat_minor": 2
}
